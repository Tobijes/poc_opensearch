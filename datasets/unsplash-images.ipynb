{
 "cells": [
  {
   "cell_type": "code",
   "execution_count": 1,
   "metadata": {
    "metadata": {}
   },
   "outputs": [],
   "source": [
    "%load_ext autoreload\n",
    "%autoreload 2\n",
    "\n",
    "import sys, os\n",
    "sys.path.insert(0, os.path.abspath('..'))"
   ]
  },
  {
   "cell_type": "code",
   "execution_count": 6,
   "metadata": {
    "metadata": {}
   },
   "outputs": [],
   "source": [
    "from argparse import ArgumentParser\n",
    "from functools import partial\n",
    "from multiprocessing.pool import ThreadPool\n",
    "from pathlib import Path\n",
    "from urllib.request import urlretrieve\n",
    "import requests\n",
    "\n",
    "import pandas as pd\n",
    "from torch.utils.data import DataLoader, Dataset\n",
    "from tqdm import tqdm\n",
    "from time import perf_counter\n",
    "\n",
    "from db_client import Searcher"
   ]
  },
  {
   "cell_type": "code",
   "execution_count": 3,
   "metadata": {
    "metadata": {}
   },
   "outputs": [],
   "source": [
    "DOWNLOAD_URL = \"https://unsplash-datasets.s3.amazonaws.com/lite/latest/unsplash-research-dataset-lite-latest.zip\"\n",
    "DATASET_PATH = Path(os.path.abspath('.')) / \"unsplash-dataset\"\n",
    "DOWNLOADED_PHOTOS_PATH = DATASET_PATH / \"photos\"\n",
    "DOWNLOADED_PHOTOS_PATH.mkdir(parents=True, exist_ok=True)\n",
    "\n",
    "IMAGE_WIDTH = 480\n",
    "THREADS_COUNT = 32\n",
    "\n",
    "CLIP_URL = \"http://127.0.0.1:8000\""
   ]
  },
  {
   "cell_type": "markdown",
   "metadata": {},
   "source": [
    "### Download photo metadata"
   ]
  },
  {
   "cell_type": "code",
   "execution_count": 10,
   "metadata": {
    "metadata": {}
   },
   "outputs": [
    {
     "name": "stdout",
     "output_type": "stream",
     "text": [
      "Downloading metadata file unsplash-dataset.zip...\n"
     ]
    },
    {
     "name": "stderr",
     "output_type": "stream",
     "text": [
      "  % Total    % Received % Xferd  Average Speed   Time    Time     Time  Current\n",
      "                                 Dload  Upload   Total   Spent    Left  Speed\n",
      "100  471M  100  471M    0     0  6632k      0  0:01:12  0:01:12 --:--:-- 7364k\n"
     ]
    },
    {
     "name": "stdout",
     "output_type": "stream",
     "text": [
      "Extracting unsplash-dataset.zip...\n",
      "Archive:  unsplash-dataset.zip\n",
      "  inflating: /home/tobijes/dev/poc_opensearch/datasets/unsplash-dataset2/collections.tsv000  \n",
      "  inflating: /home/tobijes/dev/poc_opensearch/datasets/unsplash-dataset2/__MACOSX/._collections.tsv000  \n",
      "  inflating: /home/tobijes/dev/poc_opensearch/datasets/unsplash-dataset2/colors.tsv000  \n",
      "  inflating: /home/tobijes/dev/poc_opensearch/datasets/unsplash-dataset2/__MACOSX/._colors.tsv000  \n",
      "  inflating: /home/tobijes/dev/poc_opensearch/datasets/unsplash-dataset2/conversions.tsv000  \n",
      "  inflating: /home/tobijes/dev/poc_opensearch/datasets/unsplash-dataset2/__MACOSX/._conversions.tsv000  \n",
      "  inflating: /home/tobijes/dev/poc_opensearch/datasets/unsplash-dataset2/DOCS.md  \n",
      "  inflating: /home/tobijes/dev/poc_opensearch/datasets/unsplash-dataset2/keywords.tsv000  \n",
      "  inflating: /home/tobijes/dev/poc_opensearch/datasets/unsplash-dataset2/__MACOSX/._keywords.tsv000  \n",
      "  inflating: /home/tobijes/dev/poc_opensearch/datasets/unsplash-dataset2/photos.tsv000  \n",
      "  inflating: /home/tobijes/dev/poc_opensearch/datasets/unsplash-dataset2/__MACOSX/._photos.tsv000  \n",
      "  inflating: /home/tobijes/dev/poc_opensearch/datasets/unsplash-dataset2/README.md  \n",
      "  inflating: /home/tobijes/dev/poc_opensearch/datasets/unsplash-dataset2/TERMS.md  \n"
     ]
    },
    {
     "data": {
      "text/plain": [
       "0"
      ]
     },
     "execution_count": 10,
     "metadata": {},
     "output_type": "execute_result"
    }
   ],
   "source": [
    "zip_filename = \"unsplash-dataset.zip\"\n",
    "print(f\"Downloading metadata file {zip_filename}...\")\n",
    "os.system(f\"curl -o {zip_filename} {DOWNLOAD_URL}\")\n",
    "print(f\"Extracting {zip_filename}...\")\n",
    "os.system(f\"unzip {zip_filename} -d {str(DATASET_PATH)}\")"
   ]
  },
  {
   "cell_type": "markdown",
   "metadata": {},
   "source": [
    "### Download actual photos"
   ]
  },
  {
   "cell_type": "code",
   "execution_count": 4,
   "metadata": {
    "metadata": {}
   },
   "outputs": [],
   "source": [
    "exceptions = []\n",
    "def download_photo(image_width, photo):\n",
    "    photo_id = photo[0]\n",
    "    photo_url = photo[1] + f\"?w={image_width}\"\n",
    "    photo_path = DOWNLOADED_PHOTOS_PATH / f\"{photo_id}.jpg\"\n",
    "    if not photo_path.exists():\n",
    "        try:\n",
    "            urlretrieve(photo_url, photo_path)\n",
    "        except Exception as e:\n",
    "            exceptions.append(f\"Cannot download {photo_url}: {e}\")"
   ]
  },
  {
   "cell_type": "code",
   "execution_count": 5,
   "metadata": {
    "metadata": {}
   },
   "outputs": [
    {
     "name": "stdout",
     "output_type": "stream",
     "text": [
      "Photo downloading begins...\n"
     ]
    },
    {
     "name": "stderr",
     "output_type": "stream",
     "text": [
      " 21%|██▏       | 5341/25000 [00:55<03:31, 92.89it/s]  "
     ]
    },
    {
     "name": "stdout",
     "output_type": "stream",
     "text": [
      "Cannot download https://images.unsplash.com-grass-sun.jpg?w=480: <urlopen error [Errno -2] Name or service not known>\n"
     ]
    },
    {
     "name": "stderr",
     "output_type": "stream",
     "text": [
      " 39%|███▉      | 9788/25000 [03:18<10:34, 23.96it/s] "
     ]
    },
    {
     "name": "stdout",
     "output_type": "stream",
     "text": [
      "Cannot download https://images.unsplash.com/photo-1556015174-ac6f87f53456?w=480: HTTP Error 500: Internal Server Error\n"
     ]
    },
    {
     "name": "stderr",
     "output_type": "stream",
     "text": [
      " 56%|█████▌    | 13959/25000 [05:45<06:36, 27.84it/s]"
     ]
    },
    {
     "name": "stdout",
     "output_type": "stream",
     "text": [
      "Cannot download https://images.unsplash.com/unsplash-premium-photos-production/premium_photo-1668883188879-3a7acd2bec58?w=480: HTTP Error 404: Not Found\n"
     ]
    },
    {
     "name": "stderr",
     "output_type": "stream",
     "text": [
      " 58%|█████▊    | 14416/25000 [06:01<05:51, 30.10it/s]"
     ]
    },
    {
     "name": "stdout",
     "output_type": "stream",
     "text": [
      "Cannot download https://images.unsplash.com/photo-1454313882001-e79de1a9b00d?w=480: HTTP Error 500: Internal Server Error\n"
     ]
    },
    {
     "name": "stderr",
     "output_type": "stream",
     "text": [
      " 60%|█████▉    | 14960/25000 [06:19<05:25, 30.82it/s]"
     ]
    },
    {
     "name": "stdout",
     "output_type": "stream",
     "text": [
      "Cannot download https://images.unsplash.com/unsplash-premium-photos-production/premium_photo-1675446536649-e0d90add63bb?w=480: HTTP Error 404: Not Found\n"
     ]
    },
    {
     "name": "stderr",
     "output_type": "stream",
     "text": [
      " 60%|█████▉    | 14985/25000 [06:20<04:44, 35.20it/s]"
     ]
    },
    {
     "name": "stdout",
     "output_type": "stream",
     "text": [
      "Cannot download https://images.unsplash.com/unsplash-premium-photos-production/premium_photo-1675826725982-e8508781c558?w=480: HTTP Error 404: Not Found\n"
     ]
    },
    {
     "name": "stderr",
     "output_type": "stream",
     "text": [
      " 69%|██████▊   | 17152/25000 [07:35<03:35, 36.41it/s]  "
     ]
    },
    {
     "name": "stdout",
     "output_type": "stream",
     "text": [
      "Cannot download https://images.unsplash.com_TheBeach.jpg?w=480: <urlopen error [Errno -2] Name or service not known>\n"
     ]
    },
    {
     "name": "stderr",
     "output_type": "stream",
     "text": [
      " 71%|███████   | 17713/25000 [07:55<07:46, 15.61it/s]"
     ]
    },
    {
     "name": "stdout",
     "output_type": "stream",
     "text": [
      "Cannot download https://images.unsplash.com/unsplash-premium-photos-production/premium_photo-1696839602315-4bf9599635f2?w=480: HTTP Error 404: Not Found\n"
     ]
    },
    {
     "name": "stderr",
     "output_type": "stream",
     "text": [
      " 71%|███████▏  | 17871/25000 [08:00<03:08, 37.73it/s]"
     ]
    },
    {
     "name": "stdout",
     "output_type": "stream",
     "text": [
      "Cannot download https://images.unsplash.com/unsplash-premium-photos-production/premium_photo-1664547606960-008623079291?w=480: HTTP Error 404: Not Found\n",
      "Cannot download https://images.unsplash.com/unsplash-premium-photos-production/premium_photo-1669842336797-4dfc03afa025?w=480: HTTP Error 404: Not Found\n",
      "Cannot download https://images.unsplash.com/unsplash-premium-photos-production/premium_photo-1678382343928-825f71ac5856?w=480: HTTP Error 404: Not Found\n",
      "Cannot download https://images.unsplash.com/unsplash-premium-photos-production/premium_photo-1675826638532-09d5c136dd7a?w=480: HTTP Error 404: Not Found\n"
     ]
    },
    {
     "name": "stderr",
     "output_type": "stream",
     "text": [
      " 72%|███████▏  | 17906/25000 [08:01<04:10, 28.28it/s]"
     ]
    },
    {
     "name": "stdout",
     "output_type": "stream",
     "text": [
      "Cannot download https://images.unsplash.com/photo-1547595175-1abe606baafd?w=480: HTTP Error 500: Internal Server Error\n"
     ]
    },
    {
     "name": "stderr",
     "output_type": "stream",
     "text": [
      " 73%|███████▎  | 18257/25000 [08:13<03:55, 28.67it/s]"
     ]
    },
    {
     "name": "stdout",
     "output_type": "stream",
     "text": [
      "Cannot download https://images.unsplash.com/unsplash-premium-photos-production/premium_photo-1676660359441-c620089f798a?w=480: HTTP Error 404: Not Found\n"
     ]
    },
    {
     "name": "stderr",
     "output_type": "stream",
     "text": [
      " 73%|███████▎  | 18299/25000 [08:14<03:23, 32.99it/s]"
     ]
    },
    {
     "name": "stdout",
     "output_type": "stream",
     "text": [
      "Cannot download https://images.unsplash.com/unsplash-premium-photos-production/premium_photo-1695635230516-e69891d27488?w=480: HTTP Error 404: Not Found\n",
      "Cannot download https://images.unsplash.com/unsplash-premium-photos-production/premium_photo-1700984292461-fa2d83c28c6b?w=480: HTTP Error 404: Not Found\n"
     ]
    },
    {
     "name": "stderr",
     "output_type": "stream",
     "text": [
      " 74%|███████▎  | 18378/25000 [08:17<03:45, 29.31it/s]"
     ]
    },
    {
     "name": "stdout",
     "output_type": "stream",
     "text": [
      "Cannot download https://images.unsplash.com/unsplash-premium-photos-production/premium_photo-1700391373098-cd9acd1b7e7c?w=480: HTTP Error 404: Not Found\n"
     ]
    },
    {
     "name": "stderr",
     "output_type": "stream",
     "text": [
      " 89%|████████▉ | 22357/25000 [10:47<01:16, 34.45it/s]  "
     ]
    },
    {
     "name": "stdout",
     "output_type": "stream",
     "text": [
      "Cannot download https://images.unsplash.company?w=480: <urlopen error [Errno -2] Name or service not known>\n"
     ]
    },
    {
     "name": "stderr",
     "output_type": "stream",
     "text": [
      " 92%|█████████▏| 22964/25000 [11:09<01:18, 25.89it/s]"
     ]
    },
    {
     "name": "stdout",
     "output_type": "stream",
     "text": [
      "Cannot download https://images.unsplash.com/unsplash-premium-photos-production/premium_photo-1698420085881-1b840c138a47?w=480: HTTP Error 404: Not Found\n",
      "Cannot download https://images.unsplash.com/unsplash-premium-photos-production/premium_photo-1695219820032-34cfa7950b09?w=480: HTTP Error 404: Not Found\n"
     ]
    },
    {
     "name": "stderr",
     "output_type": "stream",
     "text": [
      " 93%|█████████▎| 23319/25000 [11:20<00:43, 38.62it/s]"
     ]
    },
    {
     "name": "stdout",
     "output_type": "stream",
     "text": [
      "Cannot download https://images.unsplash.com/unsplash-premium-photos-production/premium_photo-1677636665443-2276041868e7?w=480: HTTP Error 404: Not Found\n",
      "Cannot download https://images.unsplash.com/unsplash-premium-photos-production/premium_photo-1700567963303-1b83673c52a4?w=480: HTTP Error 404: Not Found\n"
     ]
    },
    {
     "name": "stderr",
     "output_type": "stream",
     "text": [
      " 96%|█████████▋| 24087/25000 [11:47<00:29, 30.77it/s]"
     ]
    },
    {
     "name": "stdout",
     "output_type": "stream",
     "text": [
      "Cannot download https://images.unsplash.com/unsplash-premium-photos-production/premium_photo-1676667573119-40081df5d920?w=480: HTTP Error 404: Not Found\n",
      "Cannot download https://images.unsplash.com/unsplash-premium-photos-production/premium_photo-1673980029859-9e5ddaee1577?w=480: HTTP Error 404: Not Found\n"
     ]
    },
    {
     "name": "stderr",
     "output_type": "stream",
     "text": [
      " 96%|█████████▋| 24102/25000 [11:50<01:13, 12.27it/s]"
     ]
    },
    {
     "name": "stdout",
     "output_type": "stream",
     "text": [
      "Cannot download https://images.unsplash.com/unsplash-premium-photos-production/premium_photo-1701192455496-a095e6e5f792?w=480: HTTP Error 404: Not Found\n",
      "Cannot download https://images.unsplash.com/unsplash-premium-photos-production/premium_photo-1690325099431-1e536ba176bf?w=480: HTTP Error 404: Not Found\n"
     ]
    },
    {
     "name": "stderr",
     "output_type": "stream",
     "text": [
      "100%|██████████| 25000/25000 [12:30<00:00, 33.33it/s]"
     ]
    },
    {
     "name": "stdout",
     "output_type": "stream",
     "text": [
      "Photo downloading finished!\n"
     ]
    },
    {
     "name": "stderr",
     "output_type": "stream",
     "text": [
      "\n"
     ]
    }
   ],
   "source": [
    "df = pd.read_csv(DATASET_PATH / \"photos.tsv000\", sep=\"\\t\", usecols=[\"photo_id\", \"photo_image_url\"])\n",
    "photos = df.values.tolist()\n",
    "\n",
    "print(\"Photo downloading begins...\")\n",
    "with ThreadPool(THREADS_COUNT) as pool:\n",
    "    exceptions = []\n",
    "    # An enclosing list() statement waits for the iterator to end\n",
    "    list(tqdm(pool.imap(partial(download_photo, IMAGE_WIDTH), photos), total=len(photos)))\n",
    "print(\"Photo downloading finished!\")\n",
    "print(\"Exceptions:\")\n",
    "for exception in exceptions:\n",
    "    print(exception)"
   ]
  },
  {
   "cell_type": "markdown",
   "metadata": {},
   "source": [
    "### Ingest photos"
   ]
  },
  {
   "cell_type": "code",
   "execution_count": 4,
   "metadata": {
    "metadata": {}
   },
   "outputs": [],
   "source": [
    "class UnsplashDataset(Dataset):\n",
    "    def __init__(self):\n",
    "        super().__init__()\n",
    "        self.photo_files = list(DOWNLOADED_PHOTOS_PATH.glob(\"*.jpg\"))\n",
    "        df = pd.read_csv(DATASET_PATH / \"photos.tsv000\", sep=\"\\t\", usecols=[\"photo_id\", \"photo_image_url\"])\n",
    "        self.id_to_url = {photo_id: photo_image_url for photo_id, photo_image_url in df.values.tolist()}\n",
    "\n",
    "    def __len__(self):\n",
    "        return len(self.photo_files)\n",
    "\n",
    "    def __getitem__(self, idx):\n",
    "        photo_file = self.photo_files[idx]\n",
    "        photo_id = photo_file.name.split(\".\")[0]\n",
    "        # image = utils.pil_loader(photo_file)\n",
    "        photo_image_url = self.id_to_url[photo_id]\n",
    "        return photo_id, photo_image_url, photo_file\n",
    "\n",
    "\n",
    "def collate(batch):\n",
    "    return zip(*batch)\n",
    "\n",
    "def get_features(photo_files):\n",
    "    photo_files = map(str, photo_files)\n",
    "    multiple_files = [\n",
    "        (\"images\", (photo_file, open(photo_file, \"rb\"), \"image/jpg\")) for photo_file in photo_files\n",
    "    ]\n",
    "    r = requests.post(CLIP_URL + \"/images\", files=multiple_files, verify=None)\n",
    "    data = r.json()\n",
    "    return data[\"feature_vectors\"]\n",
    "\n",
    "def generate_data():\n",
    "    dataset = UnsplashDataset()\n",
    "    dataloader = DataLoader(dataset, batch_size=64, shuffle=False, collate_fn=collate)\n",
    "\n",
    "    for batch in tqdm(dataloader):\n",
    "        photo_ids, photo_image_urls, photo_files = batch\n",
    "        image_features = get_features(photo_files)\n",
    "        batch_size = len(photo_ids)\n",
    "        for i in range(batch_size):\n",
    "            yield {\n",
    "                \"_index\": \"image\",\n",
    "                \"_id\": photo_ids[i],\n",
    "                \"url\": photo_image_urls[i],\n",
    "                \"feature_vector\": image_features[i],\n",
    "            }"
   ]
  },
  {
   "cell_type": "code",
   "execution_count": 9,
   "metadata": {
    "metadata": {}
   },
   "outputs": [
    {
     "name": "stderr",
     "output_type": "stream",
     "text": [
      "/home/tobijes/dev/poc_opensearch/.venv/lib/python3.10/site-packages/opensearchpy/connection/http_urllib3.py:207: UserWarning: Connecting to https://localhost:9200 using SSL with verify_certs=False is insecure.\n",
      "  warnings.warn(\n"
     ]
    },
    {
     "name": "stdout",
     "output_type": "stream",
     "text": [
      "Creating an index...\n",
      "Indexing images...\n"
     ]
    },
    {
     "name": "stderr",
     "output_type": "stream",
     "text": [
      "100%|██████████| 391/391 [07:19<00:00,  1.12s/it]"
     ]
    },
    {
     "name": "stdout",
     "output_type": "stream",
     "text": [
      "Ingestion took 440.02710314799697s\n"
     ]
    },
    {
     "name": "stderr",
     "output_type": "stream",
     "text": [
      "\n"
     ]
    }
   ],
   "source": [
    "searcher = Searcher(\"image\")\n",
    "\n",
    "print(\"Creating an index...\")\n",
    "searcher.create_index()\n",
    "\n",
    "print(\"Indexing images...\")\n",
    "start = perf_counter()\n",
    "searcher.bulk_ingest(generate_data(), chunk_size=128)\n",
    "end = perf_counter()\n",
    "\n",
    "print(f\"Ingestion took {end-start}s\")"
   ]
  }
 ],
 "metadata": {
  "kernelspec": {
   "display_name": ".venv",
   "language": "python",
   "name": "python3"
  },
  "language_info": {
   "codemirror_mode": {
    "name": "ipython",
    "version": 3
   },
   "file_extension": ".py",
   "mimetype": "text/x-python",
   "name": "python",
   "nbconvert_exporter": "python",
   "pygments_lexer": "ipython3",
   "version": "3.10.12"
  }
 },
 "nbformat": 4,
 "nbformat_minor": 2
}
